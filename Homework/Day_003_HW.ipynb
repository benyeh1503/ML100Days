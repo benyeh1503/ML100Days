{
 "cells": [
  {
   "cell_type": "markdown",
   "metadata": {},
   "source": [
    "### [作業三]"
   ]
  },
  {
   "cell_type": "markdown",
   "metadata": {},
   "source": [
    "#### 專案名稱：Exploring Faster Screening with Fewer Tests via Bayesian Group Testing"
   ]
  },
  {
   "cell_type": "markdown",
   "metadata": {},
   "source": [
    "#### 專案的目標：\n",
    "提高在傳染疾病檢測的效率以及準確度。\n",
    "\n",
    "#### 使用的技術是：\n",
    "團隊利用貝氏統計的概念，在檢測上引入機率觀點，對於檢測樣本的母體有事前機率分布假設，而非完全相信檢測的結果，而事前分佈是來自於病患在接觸紀錄、個人問卷調查等等，再根據檢測後結果，推論出最有可能得病的患者，節省普篩產生的時間與金錢成本，提高原本疾病檢測方法\n",
    "\n",
    "#### 資料的來源是：\n",
    "Google AI Blog"
   ]
  }
 ],
 "metadata": {
  "kernelspec": {
   "display_name": "Python 3",
   "language": "python",
   "name": "python3"
  },
  "language_info": {
   "codemirror_mode": {
    "name": "ipython",
    "version": 3
   },
   "file_extension": ".py",
   "mimetype": "text/x-python",
   "name": "python",
   "nbconvert_exporter": "python",
   "pygments_lexer": "ipython3",
   "version": "3.7.4"
  }
 },
 "nbformat": 4,
 "nbformat_minor": 2
}
