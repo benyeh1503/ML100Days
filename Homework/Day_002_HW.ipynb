{
 "cells": [
  {
   "cell_type": "markdown",
   "metadata": {},
   "source": [
    "### [作業二]"
   ]
  },
  {
   "cell_type": "markdown",
   "metadata": {},
   "source": [
    "#### 請找出一個你認為機器學習可以發光發熱的領域並闡述原因?\n",
    "#### 領域名稱：半導體製造商產能規劃\n",
    "#### 原因：\n",
    "半導體製造業在生產製造上，有不同的產品、不同的訂單大小(Lot Size)以及不同的規格需求，若製造商能準確的預測下個生產期間的產能與機台利用率，將可以做更佳化的整體生產與存貨策略，甚至是機台維修偵測等等，能夠因此節省相當可觀的成本，而當中困難的部分在於半導體生產製程與晶片使用的零組件有多元的變化程度，不同項產品可能就有許多不同的變數去影響機台生產效率，因此，機器學習的方法如：迴歸預測性模型，幫助供應鏈管理人員能依據過去資料建立更好的預測結果，甚至是透過解釋性模型觀察影響產能的重要因素，加以作出相關的策略規劃，而降維相關的演算法，也能幫助製造商在龐大的生產資料當中，進行資料的視覺化，更快速地檢視自家生產的效率與產品間的相關性，透過非傳統經驗法則的方法，協助半導體產業進行最佳化的產能規劃。\n",
    "\n",
    "\n",
    "\n",
    "\n",
    "\n"
   ]
  }
 ],
 "metadata": {
  "kernelspec": {
   "display_name": "Python 3",
   "language": "python",
   "name": "python3"
  },
  "language_info": {
   "codemirror_mode": {
    "name": "ipython",
    "version": 3
   },
   "file_extension": ".py",
   "mimetype": "text/x-python",
   "name": "python",
   "nbconvert_exporter": "python",
   "pygments_lexer": "ipython3",
   "version": "3.7.4"
  }
 },
 "nbformat": 4,
 "nbformat_minor": 2
}
